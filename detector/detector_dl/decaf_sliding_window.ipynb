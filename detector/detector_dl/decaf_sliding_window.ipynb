{
 "metadata": {
  "name": ""
 },
 "nbformat": 3,
 "nbformat_minor": 0,
 "worksheets": [
  {
   "cells": [
    {
     "cell_type": "markdown",
     "metadata": {},
     "source": [
      "# DeCAF - Sliding Window"
     ]
    },
    {
     "cell_type": "code",
     "collapsed": false,
     "input": [
      "%matplotlib inline\n",
      "import matplotlib.pyplot as plt\n",
      "import matplotlib.cm as cm\n",
      "import numpy as np\n",
      "from numpy.lib.stride_tricks import as_strided as ast\n",
      "from PIL import Image\n",
      "from decaf.scripts import imagenet"
     ],
     "language": "python",
     "metadata": {},
     "outputs": [
      {
       "output_type": "stream",
       "stream": "stderr",
       "text": [
        "WARNING:root:decaf.util.pyvml: unable to load the mkl library. Using fallback options.\n"
       ]
      },
      {
       "output_type": "stream",
       "stream": "stdout",
       "text": [
        "Couldn't import dot_parser, loading of dot files will not be possible.\n"
       ]
      }
     ],
     "prompt_number": 1
    },
    {
     "cell_type": "code",
     "collapsed": false,
     "input": [
      "# Sliding Window - http://www.johnvinyard.com/blog/?p=268\n",
      "\n",
      "def norm_shape(shape):\n",
      "    '''\n",
      "    Normalize numpy array shapes so they're always expressed as a tuple, \n",
      "    even for one-dimensional shapes.\n",
      "     \n",
      "    Parameters\n",
      "        shape - an int, or a tuple of ints\n",
      "     \n",
      "    Returns\n",
      "        a shape tuple\n",
      "    '''\n",
      "    try:\n",
      "        i = int(shape)\n",
      "        return (i,)\n",
      "    except TypeError:\n",
      "        # shape was not a number\n",
      "        pass\n",
      " \n",
      "    try:\n",
      "        t = tuple(shape)\n",
      "        return t\n",
      "    except TypeError:\n",
      "        # shape was not iterable\n",
      "        pass\n",
      "     \n",
      "    raise TypeError('shape must be an int, or a tuple of ints')\n",
      "\n",
      "def sliding_window(a,ws,ss = None,flatten = True):\n",
      "    '''\n",
      "    Return a sliding window over a in any number of dimensions\n",
      "     \n",
      "    Parameters:\n",
      "        a  - an n-dimensional numpy array\n",
      "        ws - an int (a is 1D) or tuple (a is 2D or greater) representing the size \n",
      "             of each dimension of the window\n",
      "        ss - an int (a is 1D) or tuple (a is 2D or greater) representing the \n",
      "             amount to slide the window in each dimension. If not specified, it\n",
      "             defaults to ws.\n",
      "        flatten - if True, all slices are flattened, otherwise, there is an \n",
      "                  extra dimension for each dimension of the input.\n",
      "     \n",
      "    Returns\n",
      "        an array containing each n-dimensional window from a\n",
      "    '''\n",
      "     \n",
      "    if None is ss:\n",
      "        # ss was not provided. the windows will not overlap in any direction.\n",
      "        ss = ws\n",
      "    ws = norm_shape(ws)\n",
      "    ss = norm_shape(ss)\n",
      "     \n",
      "    # convert ws, ss, and a.shape to numpy arrays so that we can do math in every \n",
      "    # dimension at once.\n",
      "    ws = np.array(ws)\n",
      "    ss = np.array(ss)\n",
      "    shape = np.array(a.shape)\n",
      "     \n",
      "     \n",
      "    # ensure that ws, ss, and a.shape all have the same number of dimensions\n",
      "    ls = [len(shape),len(ws),len(ss)]\n",
      "    if 1 != len(set(ls)):\n",
      "        raise ValueError('a.shape, ws and ss must all have the same length. They were %s' % str(ls))\n",
      "     \n",
      "    # ensure that ws is smaller than a in every dimension\n",
      "    if np.any(ws > shape):\n",
      "        raise ValueError('ws cannot be larger than a in any dimension.a.shape was %s and ws was %s' % (str(a.shape),str(ws)))\n",
      "     \n",
      "    # how many slices will there be in each dimension?\n",
      "    newshape = norm_shape(((shape - ws) // ss) + 1)\n",
      "    # the shape of the strided array will be the number of slices in each dimension\n",
      "    # plus the shape of the window (tuple addition)\n",
      "    newshape += norm_shape(ws)\n",
      "    # the strides tuple will be the array's strides multiplied by step size, plus\n",
      "    # the array's strides (tuple addition)\n",
      "    newstrides = norm_shape(np.array(a.strides) * ss) + a.strides\n",
      "    strided = ast(a,shape = newshape,strides = newstrides)\n",
      "    if not flatten:\n",
      "        return strided\n",
      "     \n",
      "    # Collapse strided so that it has one more dimension than the window.  I.e.,\n",
      "    # the new array is a flat list of slices.\n",
      "    meat = len(ws) if ws.shape else 0\n",
      "    firstdim = (np.product(newshape[:-meat]),) if ws.shape else ()\n",
      "    dim = firstdim + (newshape[-meat:])\n",
      "    # remove any dimensions with size 1\n",
      "    dim = filter(lambda i : i != 1,dim)\n",
      "    return strided.reshape(dim)"
     ],
     "language": "python",
     "metadata": {},
     "outputs": [],
     "prompt_number": 2
    },
    {
     "cell_type": "code",
     "collapsed": false,
     "input": [
      "# Convert PIL image to numpy array\n",
      "fn = \"FeaturedImage2.png\" # http://lroc.sese.asu.edu/news/index.php?/archives/877-Faulted-Kipuka.html\n",
      "Img = Image.open(fn).convert(\"L\")\n",
      "ImgArray = np.asarray(Img)\n",
      "print ImgArray.shape"
     ],
     "language": "python",
     "metadata": {},
     "outputs": [
      {
       "output_type": "stream",
       "stream": "stdout",
       "text": [
        "(3487, 12756)\n"
       ]
      }
     ],
     "prompt_number": 3
    },
    {
     "cell_type": "code",
     "collapsed": false,
     "input": [
      "# Display image\n",
      "fig, ax = plt.subplots()\n",
      "ax.imshow(ImgArray, cmap = cm.Greys_r)"
     ],
     "language": "python",
     "metadata": {},
     "outputs": [
      {
       "metadata": {},
       "output_type": "pyout",
       "prompt_number": 4,
       "text": [
        "<matplotlib.image.AxesImage at 0x4fed490>"
       ]
      },
      {
       "metadata": {},
       "output_type": "display_data",
       "png": "[encoded data removed]",
       "text": [
        "<matplotlib.figure.Figure at 0x4fed450>"
       ]
      }
     ],
     "prompt_number": 4
    },
    {
     "cell_type": "code",
     "collapsed": false,
     "input": [
      "# Get windows\n",
      "ws = min(ImgArray.shape)/5\n",
      "ss = min(ImgArray.shape)/20 \n",
      "ImgWindows = sliding_window(ImgArray,(ws,ws),(ss,ss))\n",
      "numWindows = ImgWindows.shape[0]\n",
      "print ws, ss\n",
      "print ImgWindows.shape"
     ],
     "language": "python",
     "metadata": {},
     "outputs": [
      {
       "output_type": "stream",
       "stream": "stdout",
       "text": [
        "697 174\n",
        "(1190, 697, 697)\n"
       ]
      }
     ],
     "prompt_number": 5
    },
    {
     "cell_type": "code",
     "collapsed": false,
     "input": [
      "# DeCAF\n",
      "net_root='decaf//imagenet_pretrained//'\n",
      "net = imagenet.DecafNet(net_root+'imagenet.decafnet.epoch90', net_root+'imagenet.decafnet.meta')"
     ],
     "language": "python",
     "metadata": {},
     "outputs": [],
     "prompt_number": 6
    },
    {
     "cell_type": "code",
     "collapsed": false,
     "input": [
      "threshold = 0.3\n",
      "\n",
      "for i in range(numWindows):\n",
      "    scores = net.classify(ImgWindows[i], center_only=True)\n",
      "    feat = net.feature('probs_cudanet_out')[0]\n",
      "    pred_ind = net.top_k_prediction(scores, 1)[0]\n",
      "    print pred_ind\n",
      "    pred_class = net.top_k_prediction(scores, 1)[1]\n",
      "    print pred_class\n",
      "    pred_prob = feat[pred_ind][0]\n",
      "    print pred_prob\n",
      "    \n",
      "    if (pred_prob > threshold) & (pred_class != 229):\n",
      "        ImgDecaf = net.feature('data')[0,::-1]\n",
      "        ImgDecaf -= ImgDecaf.min()\n",
      "        ImgDecaf /= ImgDecaf.max()\n",
      "        \n",
      "        fig, ax = plt.subplots()\n",
      "        ax.imshow(ImgDecaf, cmap = cm.Greys_r)\n",
      "        ax.set_title('PredProb=' + str(feat[pred_ind][0].round(2)) + ' ' + pred_class[0])"
     ],
     "language": "python",
     "metadata": {},
     "outputs": [
      {
       "output_type": "stream",
       "stream": "stdout",
       "text": [
        "[284]\n",
        "['nematode']\n",
        "0.180484\n",
        "[284]"
       ]
      },
      {
       "output_type": "stream",
       "stream": "stdout",
       "text": [
        "\n",
        "['nematode']\n",
        "0.180484\n",
        "[284]"
       ]
      },
      {
       "output_type": "stream",
       "stream": "stdout",
       "text": [
        "\n",
        "['nematode']\n",
        "0.180484\n",
        "[284]"
       ]
      },
      {
       "output_type": "stream",
       "stream": "stdout",
       "text": [
        "\n",
        "['nematode']\n",
        "0.0573897\n",
        "[284]"
       ]
      },
      {
       "output_type": "stream",
       "stream": "stdout",
       "text": [
        "\n",
        "['nematode']\n",
        "0.139482\n",
        "[229]"
       ]
      },
      {
       "output_type": "stream",
       "stream": "stdout",
       "text": [
        "\n",
        "['paper towel']\n",
        "0.0512824\n",
        "[11]"
       ]
      },
      {
       "output_type": "stream",
       "stream": "stdout",
       "text": [
        "\n",
        "['screw']\n",
        "0.119941\n",
        "[11]"
       ]
      },
      {
       "output_type": "stream",
       "stream": "stdout",
       "text": [
        "\n",
        "['screw']\n",
        "0.135598\n",
        "[11]"
       ]
      },
      {
       "output_type": "stream",
       "stream": "stdout",
       "text": [
        "\n",
        "['screw']\n",
        "0.129018\n",
        "[11]"
       ]
      },
      {
       "output_type": "stream",
       "stream": "stdout",
       "text": [
        "\n",
        "['screw']\n",
        "0.131827\n",
        "[11]"
       ]
      },
      {
       "output_type": "stream",
       "stream": "stdout",
       "text": [
        "\n",
        "['screw']\n",
        "0.134278\n",
        "[11]"
       ]
      },
      {
       "output_type": "stream",
       "stream": "stdout",
       "text": [
        "\n",
        "['screw']\n",
        "0.133661\n",
        "[11]"
       ]
      },
      {
       "output_type": "stream",
       "stream": "stdout",
       "text": [
        "\n",
        "['screw']\n",
        "0.132135\n",
        "[11]"
       ]
      },
      {
       "output_type": "stream",
       "stream": "stdout",
       "text": [
        "\n",
        "['screw']\n",
        "0.111315\n",
        "[11]"
       ]
      },
      {
       "output_type": "stream",
       "stream": "stdout",
       "text": [
        "\n",
        "['screw']\n",
        "0.13982\n",
        "[11]"
       ]
      },
      {
       "output_type": "stream",
       "stream": "stdout",
       "text": [
        "\n",
        "['screw']\n",
        "0.135568\n",
        "[11]"
       ]
      },
      {
       "output_type": "stream",
       "stream": "stdout",
       "text": [
        "\n",
        "['screw']\n",
        "0.137595\n",
        "[11]"
       ]
      },
      {
       "output_type": "stream",
       "stream": "stdout",
       "text": [
        "\n",
        "['screw']\n",
        "0.143944\n",
        "[11]"
       ]
      },
      {
       "output_type": "stream",
       "stream": "stdout",
       "text": [
        "\n",
        "['screw']\n",
        "0.145813\n",
        "[11]"
       ]
      },
      {
       "output_type": "stream",
       "stream": "stdout",
       "text": [
        "\n",
        "['screw']\n",
        "0.146667\n",
        "[11]"
       ]
      },
      {
       "output_type": "stream",
       "stream": "stdout",
       "text": [
        "\n",
        "['screw']\n",
        "0.147355\n",
        "[11]"
       ]
      }
     ],
     "prompt_number": "*"
    },
    {
     "cell_type": "code",
     "collapsed": false,
     "input": [],
     "language": "python",
     "metadata": {},
     "outputs": []
    }
   ],
   "metadata": {}
  }
 ]
}